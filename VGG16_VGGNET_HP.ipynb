{
 "cells": [
  {
   "cell_type": "code",
   "execution_count": 6,
   "id": "afbb3e51",
   "metadata": {},
   "outputs": [],
   "source": [
    "import tensorflow as tf\n",
    "from tensorflow import keras\n",
    "import pandas as pd\n",
    "from keras.preprocessing.image import ImageDataGenerator\n",
    "from keras.models import Sequential \n",
    "from keras.layers import Dense,Dropout,Flatten, BatchNormalization,GlobalAveragePooling2D\n",
    "from tensorflow.python.lib.io import file_io\n",
    "#from keras.layers import Conv2D, Maxpooling2D\n",
    "from keras.applications import VGG19# keras_vggface includes RESNET50, VGG16, SENET50\n",
    "from keras_vggface.vggface import VGGFace#library edited get_source added.\n",
    "from tensorflow.keras.optimizers.legacy import Adam\n",
    "\n",
    "import os \n",
    "from matplotlib import pyplot as plt\n",
    "import numpy as np\n",
    "from glob import glob\n",
    "from tensorflow.keras import layers, Model\n",
    "from keras.models import Sequential\n",
    "from tensorflow.keras.callbacks import ReduceLROnPlateau, ModelCheckpoint, EarlyStopping\n",
    "from keras.models import load_model\n",
    "#from keras.callbacks import ModelCheckpoint, EarlyStopping\n",
    "import keras.backend as K\n",
    "from keras.utils import plot_model\n",
    "from sklearn.metrics import *\n",
    "from tensorflow.keras import Model\n",
    "import skimage\n",
    "from skimage.transform import rescale, resize\n",
    "\n",
    "import pydot"
   ]
  },
  {
   "cell_type": "code",
   "execution_count": 7,
   "id": "93b0e5a4",
   "metadata": {},
   "outputs": [
    {
     "name": "stdout",
     "output_type": "stream",
     "text": [
      "['/device:CPU:0', '/device:GPU:0']\n"
     ]
    }
   ],
   "source": [
    "from tensorflow.python.client import device_lib \n",
    "def get_available_devices () :\n",
    "    local_device_protos = device_lib.list_local_devices ()\n",
    "    return [x.name for x in local_device_protos]\n",
    "print(get_available_devices())"
   ]
  },
  {
   "cell_type": "code",
   "execution_count": null,
   "id": "f91b0222",
   "metadata": {},
   "outputs": [],
   "source": []
  },
  {
   "cell_type": "code",
   "execution_count": 8,
   "id": "9381ef3f",
   "metadata": {},
   "outputs": [
    {
     "name": "stdout",
     "output_type": "stream",
     "text": [
      "2.9.0\n",
      "[PhysicalDevice(name='/physical_device:GPU:0', device_type='GPU')]\n"
     ]
    }
   ],
   "source": [
    "import tensorflow as tf\n",
    "print(tf.__version__)\n",
    "physical_devices = tf.config.list_physical_devices('GPU')\n",
    "tf.print(physical_devices)"
   ]
  },
  {
   "cell_type": "code",
   "execution_count": 9,
   "id": "b36854ae",
   "metadata": {},
   "outputs": [],
   "source": [
    "train_data_dir =\"Archive/Train\" #FER2013 dataset train set\n",
    "validation_data_dir =\"Archive/test-public\" #fer2013 datset test set"
   ]
  },
  {
   "cell_type": "code",
   "execution_count": 10,
   "id": "54bdea38",
   "metadata": {},
   "outputs": [
    {
     "name": "stdout",
     "output_type": "stream",
     "text": [
      "Model: \"model\"\n",
      "_________________________________________________________________\n",
      " Layer (type)                Output Shape              Param #   \n",
      "=================================================================\n",
      " input_1 (InputLayer)        [(None, 224, 224, 3)]     0         \n",
      "                                                                 \n",
      " conv1_1 (Conv2D)            (None, 224, 224, 64)      1792      \n",
      "                                                                 \n",
      " conv1_2 (Conv2D)            (None, 224, 224, 64)      36928     \n",
      "                                                                 \n",
      " pool1 (MaxPooling2D)        (None, 112, 112, 64)      0         \n",
      "                                                                 \n",
      " conv2_1 (Conv2D)            (None, 112, 112, 128)     73856     \n",
      "                                                                 \n",
      " conv2_2 (Conv2D)            (None, 112, 112, 128)     147584    \n",
      "                                                                 \n",
      " pool2 (MaxPooling2D)        (None, 56, 56, 128)       0         \n",
      "                                                                 \n",
      " conv3_1 (Conv2D)            (None, 56, 56, 256)       295168    \n",
      "                                                                 \n",
      " conv3_2 (Conv2D)            (None, 56, 56, 256)       590080    \n",
      "                                                                 \n",
      " conv3_3 (Conv2D)            (None, 56, 56, 256)       590080    \n",
      "                                                                 \n",
      " pool3 (MaxPooling2D)        (None, 28, 28, 256)       0         \n",
      "                                                                 \n",
      " conv4_1 (Conv2D)            (None, 28, 28, 512)       1180160   \n",
      "                                                                 \n",
      " conv4_2 (Conv2D)            (None, 28, 28, 512)       2359808   \n",
      "                                                                 \n",
      " conv4_3 (Conv2D)            (None, 28, 28, 512)       2359808   \n",
      "                                                                 \n",
      " pool4 (MaxPooling2D)        (None, 14, 14, 512)       0         \n",
      "                                                                 \n",
      " conv5_1 (Conv2D)            (None, 14, 14, 512)       2359808   \n",
      "                                                                 \n",
      " conv5_2 (Conv2D)            (None, 14, 14, 512)       2359808   \n",
      "                                                                 \n",
      " conv5_3 (Conv2D)            (None, 14, 14, 512)       2359808   \n",
      "                                                                 \n",
      "=================================================================\n",
      "Total params: 14,714,688\n",
      "Trainable params: 14,714,688\n",
      "Non-trainable params: 0\n",
      "_________________________________________________________________\n"
     ]
    }
   ],
   "source": [
    "model = VGGFace(model='vgg16', include_top=False, input_shape=(224, 224, 3), pooling='avg')\n",
    "\n",
    "\n",
    "base_input = model.layers[0].input\n",
    "base_output = model.layers[-3].output\n",
    "model = Model(base_input, base_output)\n",
    "model.summary()\n"
   ]
  },
  {
   "cell_type": "code",
   "execution_count": 11,
   "id": "c99e8265",
   "metadata": {},
   "outputs": [
    {
     "name": "stdout",
     "output_type": "stream",
     "text": [
      "Model: \"model_1\"\n",
      "_________________________________________________________________\n",
      " Layer (type)                Output Shape              Param #   \n",
      "=================================================================\n",
      " input_1 (InputLayer)        [(None, 224, 224, 3)]     0         \n",
      "                                                                 \n",
      " conv1_1 (Conv2D)            (None, 224, 224, 64)      1792      \n",
      "                                                                 \n",
      " conv1_2 (Conv2D)            (None, 224, 224, 64)      36928     \n",
      "                                                                 \n",
      " pool1 (MaxPooling2D)        (None, 112, 112, 64)      0         \n",
      "                                                                 \n",
      " conv2_1 (Conv2D)            (None, 112, 112, 128)     73856     \n",
      "                                                                 \n",
      " conv2_2 (Conv2D)            (None, 112, 112, 128)     147584    \n",
      "                                                                 \n",
      " pool2 (MaxPooling2D)        (None, 56, 56, 128)       0         \n",
      "                                                                 \n",
      " conv3_1 (Conv2D)            (None, 56, 56, 256)       295168    \n",
      "                                                                 \n",
      " conv3_2 (Conv2D)            (None, 56, 56, 256)       590080    \n",
      "                                                                 \n",
      " conv3_3 (Conv2D)            (None, 56, 56, 256)       590080    \n",
      "                                                                 \n",
      " pool3 (MaxPooling2D)        (None, 28, 28, 256)       0         \n",
      "                                                                 \n",
      " conv4_1 (Conv2D)            (None, 28, 28, 512)       1180160   \n",
      "                                                                 \n",
      " conv4_2 (Conv2D)            (None, 28, 28, 512)       2359808   \n",
      "                                                                 \n",
      " conv4_3 (Conv2D)            (None, 28, 28, 512)       2359808   \n",
      "                                                                 \n",
      " pool4 (MaxPooling2D)        (None, 14, 14, 512)       0         \n",
      "                                                                 \n",
      " conv5_1 (Conv2D)            (None, 14, 14, 512)       2359808   \n",
      "                                                                 \n",
      " conv5_2 (Conv2D)            (None, 14, 14, 512)       2359808   \n",
      "                                                                 \n",
      " conv5_3 (Conv2D)            (None, 14, 14, 512)       2359808   \n",
      "                                                                 \n",
      " global_average_pooling2d_1   (None, 512)              0         \n",
      " (GlobalAveragePooling2D)                                        \n",
      "                                                                 \n",
      " classifier (Dense)          (None, 7)                 3591      \n",
      "                                                                 \n",
      "=================================================================\n",
      "Total params: 14,718,279\n",
      "Trainable params: 14,718,279\n",
      "Non-trainable params: 0\n",
      "_________________________________________________________________\n"
     ]
    }
   ],
   "source": [
    "x = GlobalAveragePooling2D()(base_output)\n",
    "#x = Dense(4096, activation='relu', name='fc6')(x)\n",
    "#x = Dropout(DROPOUT_RATE)(x)#0.5 drop out\n",
    "#x = Dense(4096, activation='relu', name='fc7')(x)\n",
    "\n",
    "#model = Dense(classes, activation = 'softmax', name = 'out_layer')(model)\n",
    "#print(vgg_notop.get_layer('pool5').trainable)\n",
    "\n",
    "out = Dense(7, activation='softmax', name='classifier')(x)#7 classes in FER2013\n",
    "\n",
    "model = Model(base_input, out)\n",
    "\n",
    "#OPTİMİZER\n",
    "model.summary()\n",
    "\n",
    "#optim = keras.optimizers.Adam(learning_rate=ADAM_LEARNING_RATE, beta_1=0.9, beta_2=0.999, epsilon=1e-08, decay=0.0)\n",
    "#optim = keras.optimizers.Adam(lr=0.0005, beta_1=0.9, beta_2=0.999, epsilon=1e-08, decay=0.0)\n",
    "\n",
    "\n",
    "sgd = keras.optimizers.SGD(learning_rate=0.001, momentum=0.9, nesterov=True)\n",
    "filepath=\"vgg16_vggface_weights_improvement-{epoch:02d}-{val_accuracy:.2f}.hdf5\"\n",
    "checkpoint = ModelCheckpoint(filepath, monitor='val_accuracy', verbose=1, save_best_only=True, mode='max')\n",
    "reduce_lr = ReduceLROnPlateau(monitor='val_accuracy', factor=0.2, patience=5, min_lr=0.0001)\n",
    "early_stop = EarlyStopping(monitor='val_accuracy', patience=10, mode='max', verbose=1)\n",
    "\n",
    "callbacks_list = [checkpoint, reduce_lr, early_stop]\n",
    "model.compile(optimizer=sgd, loss='categorical_crossentropy', metrics=['accuracy'])"
   ]
  },
  {
   "cell_type": "code",
   "execution_count": 12,
   "id": "17e365cf",
   "metadata": {},
   "outputs": [
    {
     "name": "stdout",
     "output_type": "stream",
     "text": [
      "Model: \"model_1\"\n",
      "_________________________________________________________________\n",
      " Layer (type)                Output Shape              Param #   \n",
      "=================================================================\n",
      " input_1 (InputLayer)        [(None, 224, 224, 3)]     0         \n",
      "                                                                 \n",
      " conv1_1 (Conv2D)            (None, 224, 224, 64)      1792      \n",
      "                                                                 \n",
      " conv1_2 (Conv2D)            (None, 224, 224, 64)      36928     \n",
      "                                                                 \n",
      " pool1 (MaxPooling2D)        (None, 112, 112, 64)      0         \n",
      "                                                                 \n",
      " conv2_1 (Conv2D)            (None, 112, 112, 128)     73856     \n",
      "                                                                 \n",
      " conv2_2 (Conv2D)            (None, 112, 112, 128)     147584    \n",
      "                                                                 \n",
      " pool2 (MaxPooling2D)        (None, 56, 56, 128)       0         \n",
      "                                                                 \n",
      " conv3_1 (Conv2D)            (None, 56, 56, 256)       295168    \n",
      "                                                                 \n",
      " conv3_2 (Conv2D)            (None, 56, 56, 256)       590080    \n",
      "                                                                 \n",
      " conv3_3 (Conv2D)            (None, 56, 56, 256)       590080    \n",
      "                                                                 \n",
      " pool3 (MaxPooling2D)        (None, 28, 28, 256)       0         \n",
      "                                                                 \n",
      " conv4_1 (Conv2D)            (None, 28, 28, 512)       1180160   \n",
      "                                                                 \n",
      " conv4_2 (Conv2D)            (None, 28, 28, 512)       2359808   \n",
      "                                                                 \n",
      " conv4_3 (Conv2D)            (None, 28, 28, 512)       2359808   \n",
      "                                                                 \n",
      " pool4 (MaxPooling2D)        (None, 14, 14, 512)       0         \n",
      "                                                                 \n",
      " conv5_1 (Conv2D)            (None, 14, 14, 512)       2359808   \n",
      "                                                                 \n",
      " conv5_2 (Conv2D)            (None, 14, 14, 512)       2359808   \n",
      "                                                                 \n",
      " conv5_3 (Conv2D)            (None, 14, 14, 512)       2359808   \n",
      "                                                                 \n",
      " global_average_pooling2d_1   (None, 512)              0         \n",
      " (GlobalAveragePooling2D)                                        \n",
      "                                                                 \n",
      " classifier (Dense)          (None, 7)                 3591      \n",
      "                                                                 \n",
      "=================================================================\n",
      "Total params: 14,718,279\n",
      "Trainable params: 14,718,279\n",
      "Non-trainable params: 0\n",
      "_________________________________________________________________\n",
      "None\n"
     ]
    }
   ],
   "source": [
    "print(model.summary())\n"
   ]
  },
  {
   "cell_type": "code",
   "execution_count": 13,
   "id": "c6a43567",
   "metadata": {},
   "outputs": [],
   "source": [
    "def get_datagen(dataset, aug=False):\n",
    "    if aug:\n",
    "        datagen = ImageDataGenerator(\n",
    "                            rescale=1./255,#multiply the data by the value provided (after applying all other transformations).\n",
    "            #Khanzada neden rescale yapıldığından bahsedilmiyor.\n",
    "                            featurewise_center=False,\n",
    "                            featurewise_std_normalization=False,\n",
    "                            rotation_range=20, \n",
    "                            width_shift_range=0.1, #float: fraction of total width, if < 1, or pixels if >= 1.\n",
    "                            height_shift_range=0.1,\n",
    "                            zoom_range=0.2,#.2 7.makale\n",
    "                            horizontal_flip=True) #vertical flip gives unrelated results \n",
    "    else:\n",
    "        datagen = ImageDataGenerator(rescale=1./255)\n",
    "\n",
    "    return datagen.flow_from_directory(\n",
    "            dataset,\n",
    "            color_mode='rgb', #Grayscale changed to RGB to fit the model(error 1 vs 3 while fit_generator) \n",
    "            target_size=(224, 224), # why did they use 197x197? (try with 224x224 and 48x48) \n",
    "            #48x48 makes images blurry, 224x224 lost resolution, around 200 best fit.  \n",
    "            #The network breaks if we use a width or height lesser than 197 as the dimension becomes smaller \n",
    "            #than the applied convolution\n",
    "#***        #API'a bak, keras rgbyi alıp dublicate mi yapıyor?Ne yapıyor? 48x48 ---> 197x197 yaparken hangi matematiksel fonksiyonu kullanıyor?\n",
    "            #image size değiştirilirken ne yapıyor?(Matematiksel)\n",
    "            shuffle = True,\n",
    "            class_mode='categorical',\n",
    "            batch_size=32)"
   ]
  },
  {
   "cell_type": "markdown",
   "id": "63698315",
   "metadata": {},
   "source": [
    "target_size: Tuple of integers `(height, width)`,\n",
    "               default: `(256, 256)`.\n",
    "              The dimensions to which all images found will be resized.\n",
    "https://stackoverflow.com/questions/50442970/keras-flow-from-directory-function-target-size-parameter\n",
    "default nearest approch -- https://petapixel.com/2016/09/08/math-behind-digital-photo-resizing-works/\n",
    "fill_mode: One of {\"constant\", \"nearest\", \"reflect\" or \"wrap\"}.\n",
    "            Default is 'nearest'.\n",
    "            Points outside the boundaries of the input are filled\n",
    "            according to the given mode:\n",
    "            - 'constant': kkkkkkkk|abcd|kkkkkkkk (cval=k)\n",
    "            - 'nearest':  aaaaaaaa|abcd|dddddddd\n",
    "            - 'reflect':  abcddcba|abcd|dcbaabcd\n",
    "            - 'wrap':  abcdabcd|abcd|abcdabcd\n",
    "Stackoverflow: https://stackoverflow.com/questions/65457708/how-are-image-resize-in-imagedatagenerator"
   ]
  },
  {
   "cell_type": "code",
   "execution_count": 14,
   "id": "be2dafbe",
   "metadata": {},
   "outputs": [],
   "source": [
    "#https://www.tensorflow.org/api_docs/python/tf/keras/preprocessing/image/ImageDataGenerator\n",
    "#tf.keras.preprocessing.image.ImageDataGenerator(\n",
    "#   featurewise_center=False, featurewise_center\tBoolean. Set input mean to 0 over the dataset, feature-wise.\n",
    "#   samplewise_center=False, Boolean. Set each sample mean to 0.\n",
    "#   featurewise_std_normalization=False, Boolean. Divide inputs by std of the dataset, feature-wise.\n",
    "#   samplewise_std_normalization=False, Boolean. Divide each input by its std.\n",
    "#   zca_whitening=False, Boolean. Apply ZCA whitening.\n",
    "#   zca_epsilon=1e-06, epsilon for ZCA whitening. Default is 1e-6.\n",
    "#   rotation_range=0, Int. Degree range for random rotations.\n",
    "#   width_shift_range=0.0,\n",
    "#   height_shift_range=0.0,\n",
    "#   brightness_range=None,\n",
    "#   shear_range=0.0,\n",
    "#   zoom_range=0.0,\n",
    "#   channel_shift_range=0.0,\n",
    "#   fill_mode='nearest',\n",
    "#   cval=0.0,\n",
    "#   horizontal_flip=False,\n",
    "#   vertical_flip=False,\n",
    "#   rescale=None,\n",
    "#   preprocessing_function=None,\n",
    "#   data_format=None,\n",
    "#   validation_split=0.0,\n",
    "#   interpolation_order=1,\n",
    "#   dtype=None\n",
    "#)\n",
    "#flow_from_directory(\n",
    "#   directory,\n",
    "#   target_size=(256, 256),\n",
    "#   color_mode='rgb', \"grayscale\", \"rgb\", \"rgba\" --> 1,3,4\n",
    "#   classes=None,\n",
    "#   class_mode='categorical', \"categorical\" will be 2D one-hot encoded labels,\n",
    "#   batch_size=32,\n",
    "#   shuffle=True,\n",
    "#   seed=None,\n",
    "#   save_to_dir=None,\n",
    "#   save_prefix='',\n",
    "#   save_format='png',\n",
    "#   follow_links=False,\n",
    "#   subset=None,\n",
    "#   interpolation='nearest',\n",
    "#   keep_aspect_ratio=False\n",
    "#)\n",
    "#0.5 image pixels drop yapılacak --- (7. makaledeki verilerin bazısının silinmesi implemente edilecek.)"
   ]
  },
  {
   "cell_type": "code",
   "execution_count": 15,
   "id": "a67bf893",
   "metadata": {},
   "outputs": [
    {
     "name": "stdout",
     "output_type": "stream",
     "text": [
      "Found 28709 images belonging to 7 classes.\n",
      "Found 3589 images belonging to 7 classes.\n",
      "Found 3589 images belonging to 7 classes.\n"
     ]
    }
   ],
   "source": [
    "Train_Data_Generator = get_datagen('Archive/Train', True)# yüzdelik nerede yazıyordu?\n",
    "Validation_Data_Generator = get_datagen('Archive/test-public')\n",
    "test_datagen  = get_datagen('Archive/test-private')#train-test-validation splt nasıl yapıldı?\n",
    "#random mı? ****** Detaylandır.\n"
   ]
  },
  {
   "cell_type": "markdown",
   "id": "9b67decb",
   "metadata": {},
   "source": [
    "Indirilen csv file içerisinde 'usage' altında training, privateTest ve publicTest olarak işaretlenmiş.\n",
    "Labellarına göre 3 dosyaya ayrılıp kaydedildi.  "
   ]
  },
  {
   "cell_type": "code",
   "execution_count": 16,
   "id": "e6ac1d2d",
   "metadata": {},
   "outputs": [
    {
     "name": "stdout",
     "output_type": "stream",
     "text": [
      "Epoch 1/50\n",
      "897/897 [==============================] - ETA: 0s - loss: 1.4793 - accuracy: 0.4281\n",
      "Epoch 1: val_accuracy improved from -inf to 0.57397, saving model to vgg16_vggface_weights_improvement-01-0.57.hdf5\n",
      "897/897 [==============================] - 529s 590ms/step - loss: 1.4793 - accuracy: 0.4281 - val_loss: 1.1329 - val_accuracy: 0.5740 - lr: 0.0010\n",
      "Epoch 2/50\n",
      "897/897 [==============================] - ETA: 0s - loss: 1.0980 - accuracy: 0.5941\n",
      "Epoch 2: val_accuracy improved from 0.57397 to 0.61984, saving model to vgg16_vggface_weights_improvement-02-0.62.hdf5\n",
      "897/897 [==============================] - 528s 589ms/step - loss: 1.0980 - accuracy: 0.5941 - val_loss: 1.0255 - val_accuracy: 0.6198 - lr: 0.0010\n",
      "Epoch 3/50\n",
      "897/897 [==============================] - ETA: 0s - loss: 1.0109 - accuracy: 0.6244\n",
      "Epoch 3: val_accuracy improved from 0.61984 to 0.63102, saving model to vgg16_vggface_weights_improvement-03-0.63.hdf5\n",
      "897/897 [==============================] - 525s 585ms/step - loss: 1.0109 - accuracy: 0.6244 - val_loss: 0.9879 - val_accuracy: 0.6310 - lr: 0.0010\n",
      "Epoch 4/50\n",
      "897/897 [==============================] - ETA: 0s - loss: 0.9598 - accuracy: 0.6447\n",
      "Epoch 4: val_accuracy improved from 0.63102 to 0.63962, saving model to vgg16_vggface_weights_improvement-04-0.64.hdf5\n",
      "897/897 [==============================] - 525s 586ms/step - loss: 0.9598 - accuracy: 0.6447 - val_loss: 0.9818 - val_accuracy: 0.6396 - lr: 0.0010\n",
      "Epoch 5/50\n",
      "897/897 [==============================] - ETA: 0s - loss: 0.9212 - accuracy: 0.6603\n",
      "Epoch 5: val_accuracy improved from 0.63962 to 0.64708, saving model to vgg16_vggface_weights_improvement-05-0.65.hdf5\n",
      "897/897 [==============================] - 526s 586ms/step - loss: 0.9212 - accuracy: 0.6603 - val_loss: 0.9479 - val_accuracy: 0.6471 - lr: 0.0010\n",
      "Epoch 6/50\n",
      "897/897 [==============================] - ETA: 0s - loss: 0.8903 - accuracy: 0.6720\n",
      "Epoch 6: val_accuracy did not improve from 0.64708\n",
      "897/897 [==============================] - 526s 586ms/step - loss: 0.8903 - accuracy: 0.6720 - val_loss: 0.9754 - val_accuracy: 0.6362 - lr: 0.0010\n",
      "Epoch 7/50\n",
      "897/897 [==============================] - ETA: 0s - loss: 0.8597 - accuracy: 0.6849\n",
      "Epoch 7: val_accuracy improved from 0.64708 to 0.66571, saving model to vgg16_vggface_weights_improvement-07-0.67.hdf5\n",
      "897/897 [==============================] - 525s 586ms/step - loss: 0.8597 - accuracy: 0.6849 - val_loss: 0.9210 - val_accuracy: 0.6657 - lr: 0.0010\n",
      "Epoch 8/50\n",
      "897/897 [==============================] - ETA: 0s - loss: 0.8294 - accuracy: 0.6934\n",
      "Epoch 8: val_accuracy did not improve from 0.66571\n",
      "897/897 [==============================] - 527s 587ms/step - loss: 0.8294 - accuracy: 0.6934 - val_loss: 0.9053 - val_accuracy: 0.6646 - lr: 0.0010\n",
      "Epoch 9/50\n",
      "897/897 [==============================] - ETA: 0s - loss: 0.8068 - accuracy: 0.7006\n",
      "Epoch 9: val_accuracy improved from 0.66571 to 0.66600, saving model to vgg16_vggface_weights_improvement-09-0.67.hdf5\n",
      "897/897 [==============================] - 527s 587ms/step - loss: 0.8068 - accuracy: 0.7006 - val_loss: 0.9076 - val_accuracy: 0.6660 - lr: 0.0010\n",
      "Epoch 10/50\n",
      "897/897 [==============================] - ETA: 0s - loss: 0.7817 - accuracy: 0.7123\n",
      "Epoch 10: val_accuracy did not improve from 0.66600\n",
      "897/897 [==============================] - 525s 586ms/step - loss: 0.7817 - accuracy: 0.7123 - val_loss: 0.9837 - val_accuracy: 0.6514 - lr: 0.0010\n",
      "Epoch 11/50\n",
      "897/897 [==============================] - ETA: 0s - loss: 0.7575 - accuracy: 0.7204\n",
      "Epoch 11: val_accuracy improved from 0.66600 to 0.67403, saving model to vgg16_vggface_weights_improvement-11-0.67.hdf5\n",
      "897/897 [==============================] - 525s 586ms/step - loss: 0.7575 - accuracy: 0.7204 - val_loss: 0.9013 - val_accuracy: 0.6740 - lr: 0.0010\n",
      "Epoch 12/50\n",
      "897/897 [==============================] - ETA: 0s - loss: 0.7349 - accuracy: 0.7280\n",
      "Epoch 12: val_accuracy improved from 0.67403 to 0.68951, saving model to vgg16_vggface_weights_improvement-12-0.69.hdf5\n",
      "897/897 [==============================] - 526s 586ms/step - loss: 0.7349 - accuracy: 0.7280 - val_loss: 0.8744 - val_accuracy: 0.6895 - lr: 0.0010\n",
      "Epoch 13/50\n",
      "897/897 [==============================] - ETA: 0s - loss: 0.7135 - accuracy: 0.7389\n",
      "Epoch 13: val_accuracy did not improve from 0.68951\n",
      "897/897 [==============================] - 527s 587ms/step - loss: 0.7135 - accuracy: 0.7389 - val_loss: 0.9188 - val_accuracy: 0.6823 - lr: 0.0010\n",
      "Epoch 14/50\n",
      "897/897 [==============================] - ETA: 0s - loss: 0.6912 - accuracy: 0.7474\n",
      "Epoch 14: val_accuracy improved from 0.68951 to 0.69839, saving model to vgg16_vggface_weights_improvement-14-0.70.hdf5\n",
      "897/897 [==============================] - 526s 587ms/step - loss: 0.6912 - accuracy: 0.7474 - val_loss: 0.8704 - val_accuracy: 0.6984 - lr: 0.0010\n",
      "Epoch 15/50\n",
      "897/897 [==============================] - ETA: 0s - loss: 0.6688 - accuracy: 0.7533\n",
      "Epoch 15: val_accuracy did not improve from 0.69839\n",
      "897/897 [==============================] - 529s 590ms/step - loss: 0.6688 - accuracy: 0.7533 - val_loss: 0.8997 - val_accuracy: 0.6947 - lr: 0.0010\n",
      "Epoch 16/50\n",
      "897/897 [==============================] - ETA: 0s - loss: 0.6506 - accuracy: 0.7615\n",
      "Epoch 16: val_accuracy did not improve from 0.69839\n",
      "897/897 [==============================] - 527s 588ms/step - loss: 0.6506 - accuracy: 0.7615 - val_loss: 0.8932 - val_accuracy: 0.6929 - lr: 0.0010\n",
      "Epoch 17/50\n",
      "897/897 [==============================] - ETA: 0s - loss: 0.6265 - accuracy: 0.7708\n",
      "Epoch 17: val_accuracy did not improve from 0.69839\n",
      "897/897 [==============================] - 527s 587ms/step - loss: 0.6265 - accuracy: 0.7708 - val_loss: 0.9415 - val_accuracy: 0.6841 - lr: 0.0010\n",
      "Epoch 18/50\n",
      "897/897 [==============================] - ETA: 0s - loss: 0.6026 - accuracy: 0.7809\n",
      "Epoch 18: val_accuracy did not improve from 0.69839\n",
      "897/897 [==============================] - 527s 587ms/step - loss: 0.6026 - accuracy: 0.7809 - val_loss: 0.9036 - val_accuracy: 0.6886 - lr: 0.0010\n",
      "Epoch 19/50\n",
      "897/897 [==============================] - ETA: 0s - loss: 0.5834 - accuracy: 0.7866\n",
      "Epoch 19: val_accuracy did not improve from 0.69839\n",
      "897/897 [==============================] - 529s 589ms/step - loss: 0.5834 - accuracy: 0.7866 - val_loss: 0.9161 - val_accuracy: 0.6835 - lr: 0.0010\n",
      "Epoch 20/50\n",
      "897/897 [==============================] - ETA: 0s - loss: 0.4578 - accuracy: 0.8350\n",
      "Epoch 20: val_accuracy improved from 0.69839 to 0.70728, saving model to vgg16_vggface_weights_improvement-20-0.71.hdf5\n",
      "897/897 [==============================] - 528s 588ms/step - loss: 0.4578 - accuracy: 0.8350 - val_loss: 0.9606 - val_accuracy: 0.7073 - lr: 2.0000e-04\n",
      "Epoch 21/50\n",
      "897/897 [==============================] - ETA: 0s - loss: 0.4234 - accuracy: 0.8460\n",
      "Epoch 21: val_accuracy improved from 0.70728 to 0.70786, saving model to vgg16_vggface_weights_improvement-21-0.71.hdf5\n",
      "897/897 [==============================] - 528s 589ms/step - loss: 0.4234 - accuracy: 0.8460 - val_loss: 0.9932 - val_accuracy: 0.7079 - lr: 2.0000e-04\n",
      "Epoch 22/50\n",
      "897/897 [==============================] - ETA: 0s - loss: 0.4072 - accuracy: 0.8526\n",
      "Epoch 22: val_accuracy improved from 0.70786 to 0.71130, saving model to vgg16_vggface_weights_improvement-22-0.71.hdf5\n",
      "897/897 [==============================] - 528s 589ms/step - loss: 0.4072 - accuracy: 0.8526 - val_loss: 0.9946 - val_accuracy: 0.7113 - lr: 2.0000e-04\n",
      "Epoch 23/50\n",
      "897/897 [==============================] - ETA: 0s - loss: 0.3895 - accuracy: 0.8603\n",
      "Epoch 23: val_accuracy did not improve from 0.71130\n",
      "897/897 [==============================] - 529s 589ms/step - loss: 0.3895 - accuracy: 0.8603 - val_loss: 1.0534 - val_accuracy: 0.7093 - lr: 2.0000e-04\n",
      "Epoch 24/50\n",
      "897/897 [==============================] - ETA: 0s - loss: 0.3793 - accuracy: 0.8631\n",
      "Epoch 24: val_accuracy did not improve from 0.71130\n",
      "897/897 [==============================] - 529s 590ms/step - loss: 0.3793 - accuracy: 0.8631 - val_loss: 1.0572 - val_accuracy: 0.7067 - lr: 2.0000e-04\n",
      "Epoch 25/50\n",
      "897/897 [==============================] - ETA: 0s - loss: 0.3647 - accuracy: 0.8675\n",
      "Epoch 25: val_accuracy did not improve from 0.71130\n",
      "897/897 [==============================] - 533s 594ms/step - loss: 0.3647 - accuracy: 0.8675 - val_loss: 1.1058 - val_accuracy: 0.7073 - lr: 2.0000e-04\n"
     ]
    },
    {
     "name": "stdout",
     "output_type": "stream",
     "text": [
      "Epoch 26/50\n",
      "897/897 [==============================] - ETA: 0s - loss: 0.3533 - accuracy: 0.8717\n",
      "Epoch 26: val_accuracy improved from 0.71130 to 0.71302, saving model to vgg16_vggface_weights_improvement-26-0.71.hdf5\n",
      "897/897 [==============================] - 529s 589ms/step - loss: 0.3533 - accuracy: 0.8717 - val_loss: 1.0971 - val_accuracy: 0.7130 - lr: 2.0000e-04\n",
      "Epoch 27/50\n",
      "897/897 [==============================] - ETA: 0s - loss: 0.3435 - accuracy: 0.8770\n",
      "Epoch 27: val_accuracy did not improve from 0.71302\n",
      "897/897 [==============================] - 529s 590ms/step - loss: 0.3435 - accuracy: 0.8770 - val_loss: 1.1420 - val_accuracy: 0.7007 - lr: 2.0000e-04\n",
      "Epoch 28/50\n",
      "897/897 [==============================] - ETA: 0s - loss: 0.3284 - accuracy: 0.8805\n",
      "Epoch 28: val_accuracy did not improve from 0.71302\n",
      "897/897 [==============================] - 530s 590ms/step - loss: 0.3284 - accuracy: 0.8805 - val_loss: 1.1534 - val_accuracy: 0.7061 - lr: 2.0000e-04\n",
      "Epoch 29/50\n",
      "897/897 [==============================] - ETA: 0s - loss: 0.3212 - accuracy: 0.8862\n",
      "Epoch 29: val_accuracy did not improve from 0.71302\n",
      "897/897 [==============================] - 529s 590ms/step - loss: 0.3212 - accuracy: 0.8862 - val_loss: 1.1903 - val_accuracy: 0.7116 - lr: 2.0000e-04\n",
      "Epoch 30/50\n",
      "897/897 [==============================] - ETA: 0s - loss: 0.3149 - accuracy: 0.8880\n",
      "Epoch 30: val_accuracy did not improve from 0.71302\n",
      "897/897 [==============================] - 529s 590ms/step - loss: 0.3149 - accuracy: 0.8880 - val_loss: 1.1346 - val_accuracy: 0.7044 - lr: 2.0000e-04\n",
      "Epoch 31/50\n",
      "897/897 [==============================] - ETA: 0s - loss: 0.3051 - accuracy: 0.8880\n",
      "Epoch 31: val_accuracy did not improve from 0.71302\n",
      "897/897 [==============================] - 529s 589ms/step - loss: 0.3051 - accuracy: 0.8880 - val_loss: 1.2264 - val_accuracy: 0.7099 - lr: 2.0000e-04\n",
      "Epoch 32/50\n",
      "897/897 [==============================] - ETA: 0s - loss: 0.2672 - accuracy: 0.9049\n",
      "Epoch 32: val_accuracy improved from 0.71302 to 0.71330, saving model to vgg16_vggface_weights_improvement-32-0.71.hdf5\n",
      "897/897 [==============================] - 529s 590ms/step - loss: 0.2672 - accuracy: 0.9049 - val_loss: 1.1938 - val_accuracy: 0.7133 - lr: 1.0000e-04\n",
      "Epoch 33/50\n",
      "897/897 [==============================] - ETA: 0s - loss: 0.2580 - accuracy: 0.9073\n",
      "Epoch 33: val_accuracy did not improve from 0.71330\n",
      "897/897 [==============================] - 531s 592ms/step - loss: 0.2580 - accuracy: 0.9073 - val_loss: 1.2371 - val_accuracy: 0.7053 - lr: 1.0000e-04\n",
      "Epoch 34/50\n",
      "897/897 [==============================] - ETA: 0s - loss: 0.2490 - accuracy: 0.9102\n",
      "Epoch 34: val_accuracy did not improve from 0.71330\n",
      "897/897 [==============================] - 530s 591ms/step - loss: 0.2490 - accuracy: 0.9102 - val_loss: 1.2891 - val_accuracy: 0.7076 - lr: 1.0000e-04\n",
      "Epoch 35/50\n",
      "897/897 [==============================] - ETA: 0s - loss: 0.2394 - accuracy: 0.9140\n",
      "Epoch 35: val_accuracy did not improve from 0.71330\n",
      "897/897 [==============================] - 530s 590ms/step - loss: 0.2394 - accuracy: 0.9140 - val_loss: 1.3188 - val_accuracy: 0.7110 - lr: 1.0000e-04\n",
      "Epoch 36/50\n",
      "897/897 [==============================] - ETA: 0s - loss: 0.2365 - accuracy: 0.9149\n",
      "Epoch 36: val_accuracy did not improve from 0.71330\n",
      "897/897 [==============================] - 529s 590ms/step - loss: 0.2365 - accuracy: 0.9149 - val_loss: 1.3843 - val_accuracy: 0.7044 - lr: 1.0000e-04\n",
      "Epoch 37/50\n",
      "897/897 [==============================] - ETA: 0s - loss: 0.2347 - accuracy: 0.9178\n",
      "Epoch 37: val_accuracy did not improve from 0.71330\n",
      "897/897 [==============================] - 530s 590ms/step - loss: 0.2347 - accuracy: 0.9178 - val_loss: 1.3334 - val_accuracy: 0.7087 - lr: 1.0000e-04\n",
      "Epoch 38/50\n",
      "897/897 [==============================] - ETA: 0s - loss: 0.2227 - accuracy: 0.9201\n",
      "Epoch 38: val_accuracy did not improve from 0.71330\n",
      "897/897 [==============================] - 541s 603ms/step - loss: 0.2227 - accuracy: 0.9201 - val_loss: 1.3499 - val_accuracy: 0.7041 - lr: 1.0000e-04\n",
      "Epoch 39/50\n",
      "897/897 [==============================] - ETA: 0s - loss: 0.2223 - accuracy: 0.9197\n",
      "Epoch 39: val_accuracy did not improve from 0.71330\n",
      "897/897 [==============================] - 553s 616ms/step - loss: 0.2223 - accuracy: 0.9197 - val_loss: 1.3749 - val_accuracy: 0.7084 - lr: 1.0000e-04\n",
      "Epoch 40/50\n",
      "897/897 [==============================] - ETA: 0s - loss: 0.2177 - accuracy: 0.9226\n",
      "Epoch 40: val_accuracy did not improve from 0.71330\n",
      "897/897 [==============================] - 534s 595ms/step - loss: 0.2177 - accuracy: 0.9226 - val_loss: 1.3700 - val_accuracy: 0.7067 - lr: 1.0000e-04\n",
      "Epoch 41/50\n",
      "897/897 [==============================] - ETA: 0s - loss: 0.2124 - accuracy: 0.9251\n",
      "Epoch 41: val_accuracy did not improve from 0.71330\n",
      "897/897 [==============================] - 530s 591ms/step - loss: 0.2124 - accuracy: 0.9251 - val_loss: 1.3951 - val_accuracy: 0.7087 - lr: 1.0000e-04\n",
      "Epoch 42/50\n",
      "897/897 [==============================] - ETA: 0s - loss: 0.2035 - accuracy: 0.9278\n",
      "Epoch 42: val_accuracy did not improve from 0.71330\n",
      "897/897 [==============================] - 531s 591ms/step - loss: 0.2035 - accuracy: 0.9278 - val_loss: 1.4414 - val_accuracy: 0.7044 - lr: 1.0000e-04\n",
      "Epoch 42: early stopping\n"
     ]
    }
   ],
   "source": [
    "batch_size=32\n",
    "history = model.fit(\n",
    "    Train_Data_Generator,\n",
    "    validation_data = Validation_Data_Generator, \n",
    "    steps_per_epoch=28709// batch_size,\n",
    "    validation_steps=3509 // batch_size,\n",
    "    shuffle=True,\n",
    "    epochs=50,\n",
    "    callbacks=[callbacks_list],\n",
    ") "
   ]
  },
  {
   "cell_type": "code",
   "execution_count": 17,
   "id": "54cacb25",
   "metadata": {},
   "outputs": [
    {
     "name": "stdout",
     "output_type": "stream",
     "text": [
      "113/113 [==============================] - 17s 151ms/step - loss: 1.1999 - accuracy: 0.7127\n",
      "Validation loss: 1.1999163627624512\n",
      "Validation accuracy: 0.7127333879470825\n",
      "113/113 [==============================] - 18s 163ms/step - loss: 1.1060 - accuracy: 0.7144\n",
      "Test loss: 1.1060001850128174\n",
      "Test accuracy: 0.7144051790237427\n"
     ]
    }
   ],
   "source": [
    "# Load the weights of the best validation accuracy model\n",
    "model.load_weights('vgg16_vggface_weights_improvement-32-0.71.hdf5') # edit iwth my path to file\n",
    "\n",
    "# Compile the model with the same optimizer, loss function, and metrics as during training\n",
    "model.compile(optimizer=sgd, loss='categorical_crossentropy', metrics=['accuracy'])\n",
    "\n",
    "# Evaluate the model on the validation set\n",
    "val_loss, val_accuracy = model.evaluate(Validation_Data_Generator)\n",
    "print('Validation loss:', val_loss)\n",
    "print('Validation accuracy:', val_accuracy)\n",
    "\n",
    "# Evaluate the model on the test set\n",
    "test_loss, test_accuracy = model.evaluate(test_datagen)\n",
    "print('Test loss:', test_loss)\n",
    "print('Test accuracy:', test_accuracy)"
   ]
  },
  {
   "cell_type": "code",
   "execution_count": 18,
   "id": "dbbb835e",
   "metadata": {},
   "outputs": [
    {
     "name": "stdout",
     "output_type": "stream",
     "text": [
      "\n",
      "# Evaluate on test data\n"
     ]
    },
    {
     "name": "stderr",
     "output_type": "stream",
     "text": [
      "<ipython-input-18-5bae5064a529>:2: UserWarning: `Model.evaluate_generator` is deprecated and will be removed in a future version. Please use `Model.evaluate`, which supports generators.\n",
      "  results_test = model.evaluate_generator(test_datagen, 3509 // batch_size)\n"
     ]
    },
    {
     "name": "stdout",
     "output_type": "stream",
     "text": [
      "test loss, test accuracy: [1.1072932481765747, 0.7138761878013611]\n"
     ]
    }
   ],
   "source": [
    "print('\\n# Evaluate on test data')\n",
    "results_test = model.evaluate_generator(test_datagen, 3509 // batch_size)\n",
    "print('test loss, test accuracy:', results_test)"
   ]
  },
  {
   "cell_type": "code",
   "execution_count": 19,
   "id": "be338534",
   "metadata": {},
   "outputs": [
    {
     "name": "stdout",
     "output_type": "stream",
     "text": [
      "\n",
      "# Evaluate on dev data\n"
     ]
    },
    {
     "name": "stderr",
     "output_type": "stream",
     "text": [
      "<ipython-input-19-03599d3dc802>:2: UserWarning: `Model.evaluate_generator` is deprecated and will be removed in a future version. Please use `Model.evaluate`, which supports generators.\n",
      "  results_dev = model.evaluate_generator(Validation_Data_Generator, 3509 // batch_size)\n"
     ]
    },
    {
     "name": "stdout",
     "output_type": "stream",
     "text": [
      "validation loss, validation accuracy: [1.2017879486083984, 0.7121559977531433]\n"
     ]
    }
   ],
   "source": [
    "print('\\n# Evaluate on dev data')\n",
    "results_dev = model.evaluate_generator(Validation_Data_Generator, 3509 // batch_size)\n",
    "print('validation loss, validation accuracy:', results_dev)"
   ]
  },
  {
   "cell_type": "code",
   "execution_count": 20,
   "id": "f27db50f",
   "metadata": {},
   "outputs": [
    {
     "data": {
      "image/png": "[encoded data removed]",
      "text/plain": [
       "<Figure size 432x288 with 1 Axes>"
      ]
     },
     "metadata": {
      "needs_background": "light"
     },
     "output_type": "display_data"
    }
   ],
   "source": [
    "plt.plot(history.history['loss'], label='train_loss')\n",
    "plt.plot(history.history['val_loss'], label='val_loss')\n",
    "plt.legend()\n",
    "plt.show()\n",
    "#"
   ]
  },
  {
   "cell_type": "code",
   "execution_count": 21,
   "id": "de57d29f",
   "metadata": {},
   "outputs": [
    {
     "data": {
      "image/png": "[encoded data removed]",
      "text/plain": [
       "<Figure size 432x288 with 1 Axes>"
      ]
     },
     "metadata": {
      "needs_background": "light"
     },
     "output_type": "display_data"
    }
   ],
   "source": [
    "plt.plot(history.history['accuracy'], label='train_acc')\n",
    "plt.plot(history.history['val_accuracy'], label='val_acc')\n",
    "plt.legend()\n",
    "plt.show()\n",
    "#save best true -- en iyi modeli saklamış olsun. (best validation acc)"
   ]
  },
  {
   "cell_type": "markdown",
   "id": "845b5c27",
   "metadata": {},
   "source": []
  },
  {
   "cell_type": "code",
   "execution_count": 22,
   "id": "105f4b3c",
   "metadata": {},
   "outputs": [],
   "source": [
    "class_labels = ['Angry','Disgust','Fear','Happy','Neutral','Disgust','Sad']\n",
    "img, label = Train_Data_Generator.__next__()"
   ]
  },
  {
   "cell_type": "code",
   "execution_count": 83,
   "id": "6400a9f4",
   "metadata": {},
   "outputs": [
    {
     "data": {
      "image/png": "[encoded data removed]",
      "text/plain": [
       "<Figure size 432x288 with 1 Axes>"
      ]
     },
     "metadata": {
      "needs_background": "light"
     },
     "output_type": "display_data"
    }
   ],
   "source": [
    "import random\n",
    "\n",
    "i = random.randint(0, (img.shape[0])-1)\n",
    "image = img[i]\n",
    "labl = class_labels[label[i].argmax()]\n",
    "plt.imshow(image[:,:,0], cmap='gray')\n",
    "plt.title(labl)\n",
    "plt.show()"
   ]
  },
  {
   "cell_type": "code",
   "execution_count": 85,
   "id": "ee9c579b",
   "metadata": {},
   "outputs": [],
   "source": [
    "epoch_str = '-EPOCHS_' + str(EPOCHS)\n",
    "test_acc = 'test_acc_%.3f' % results_test[1]\n",
    "model.save('/Users/fulyayenilmez/cs230-fer-master/my_models/' + 'VGG16' + epoch_str + test_acc + '.h5')"
   ]
  },
  {
   "cell_type": "code",
   "execution_count": 17,
   "id": "23a23f9f",
   "metadata": {},
   "outputs": [],
   "source": []
  },
  {
   "cell_type": "code",
   "execution_count": 84,
   "id": "0084052c",
   "metadata": {},
   "outputs": [],
   "source": []
  },
  {
   "cell_type": "code",
   "execution_count": null,
   "id": "99422851",
   "metadata": {},
   "outputs": [],
   "source": []
  },
  {
   "cell_type": "code",
   "execution_count": 176,
   "id": "db5cbc10",
   "metadata": {},
   "outputs": [],
   "source": []
  },
  {
   "cell_type": "code",
   "execution_count": 19,
   "id": "2b15de4d",
   "metadata": {},
   "outputs": [],
   "source": []
  },
  {
   "cell_type": "code",
   "execution_count": 20,
   "id": "e4d7cc69",
   "metadata": {},
   "outputs": [],
   "source": []
  },
  {
   "cell_type": "code",
   "execution_count": 179,
   "id": "88499dcb",
   "metadata": {},
   "outputs": [],
   "source": []
  },
  {
   "cell_type": "code",
   "execution_count": 23,
   "id": "14d812d1",
   "metadata": {},
   "outputs": [],
   "source": []
  },
  {
   "cell_type": "code",
   "execution_count": 24,
   "id": "e6125fe1",
   "metadata": {},
   "outputs": [],
   "source": []
  },
  {
   "cell_type": "code",
   "execution_count": null,
   "id": "a691e24c",
   "metadata": {},
   "outputs": [],
   "source": []
  },
  {
   "cell_type": "code",
   "execution_count": null,
   "id": "4d02b9c5",
   "metadata": {},
   "outputs": [],
   "source": []
  },
  {
   "cell_type": "code",
   "execution_count": null,
   "id": "f500fb3a",
   "metadata": {},
   "outputs": [],
   "source": []
  },
  {
   "cell_type": "code",
   "execution_count": null,
   "id": "e1c3a54c",
   "metadata": {},
   "outputs": [],
   "source": []
  }
 ],
 "metadata": {
  "kernelspec": {
   "display_name": "Python 3",
   "language": "python",
   "name": "python3"
  },
  "language_info": {
   "codemirror_mode": {
    "name": "ipython",
    "version": 3
   },
   "file_extension": ".py",
   "mimetype": "text/x-python",
   "name": "python",
   "nbconvert_exporter": "python",
   "pygments_lexer": "ipython3",
   "version": "3.8.15"
  }
 },
 "nbformat": 4,
 "nbformat_minor": 5
}
